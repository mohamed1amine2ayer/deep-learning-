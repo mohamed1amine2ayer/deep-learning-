{
  "nbformat": 4,
  "nbformat_minor": 0,
  "metadata": {
    "colab": {
      "name": "Gender Classification using Male and Female Faces - Deep Learning Inception V3 in Python.py",
      "private_outputs": true,
      "provenance": [],
      "collapsed_sections": [
        "fgKQai2zDsrE",
        "I_CYSmdGFK5K",
        "PfSoqFBOiNoF"
      ]
    },
    "kernelspec": {
      "name": "python3",
      "display_name": "Python 3"
    },
    "language_info": {
      "name": "python"
    },
    "accelerator": "GPU"
  },
  "cells": [
    {
      "cell_type": "markdown",
      "source": [
        ""
      ],
      "metadata": {
        "id": "3kUL_cnr9xHi"
      }
    },
    {
      "cell_type": "code",
      "source": [
        "import matplotlib.pyplot as plt\n",
        "import numpy as np\n",
        "import pandas as pd\n",
        "import random\n",
        "import os\n",
        "%matplotlib inline"
      ],
      "metadata": {
        "id": "htsStqoqonme"
      },
      "execution_count": null,
      "outputs": []
    },
    {
      "cell_type": "code",
      "source": [
        "import tensorflow as tf\n",
        "from tensorflow.keras.applications import InceptionV3 # This function returns a Keras image classification model (cnn formed by 7 layers)\n",
        "from tensorflow.keras.models import Sequential\n",
        "from tensorflow.keras.layers import Dense ,Flatten , BatchNormalization ,Dropout\n",
        "from tensorflow.keras.preprocessing.image import ImageDataGenerator\n",
        "from tensorflow.keras.preprocessing.image import load_img , img_to_array\n",
        "inception_weights_path ='https://github.com/laxmimerit/male-female-face-dataset'\n"
      ],
      "metadata": {
        "id": "-_vGo2TF_AKk"
      },
      "execution_count": null,
      "outputs": []
    },
    {
      "cell_type": "markdown",
      "source": [
        "# Data preparation "
      ],
      "metadata": {
        "id": "fgKQai2zDsrE"
      }
    },
    {
      "cell_type": "code",
      "source": [
        "!git clone https://github.com/laxmimerit/male-female-face-dataset.git"
      ],
      "metadata": {
        "id": "XAbLbd6RDYg5"
      },
      "execution_count": null,
      "outputs": []
    },
    {
      "cell_type": "code",
      "source": [
        "epochs = 50 \n",
        "lr= 1e-3\n",
        "data= []\n",
        "labels =[]\n",
        "batch_size=128"
      ],
      "metadata": {
        "id": "Q0EjbYSvEuP9"
      },
      "execution_count": null,
      "outputs": []
    },
    {
      "cell_type": "code",
      "source": [
        "size =224 # height/width"
      ],
      "metadata": {
        "id": "XuAk4gsIFCcl"
      },
      "execution_count": null,
      "outputs": []
    },
    {
      "cell_type": "markdown",
      "source": [
        "# **Image Data Generator**"
      ],
      "metadata": {
        "id": "I_CYSmdGFK5K"
      }
    },
    {
      "cell_type": "code",
      "source": [
        "train_datagen =  ImageDataGenerator(horizontal_flip=True,width_shift_range=0.4, height_shift_range=0.4,zoom_range=20,rescale=1/255)"
      ],
      "metadata": {
        "id": "KK1WktINFV5H"
      },
      "execution_count": null,
      "outputs": []
    },
    {
      "cell_type": "code",
      "source": [
        "test_gen=ImageDataGenerator(rescale=1/255)"
      ],
      "metadata": {
        "id": "R0_7E-hrGFE3"
      },
      "execution_count": null,
      "outputs": []
    },
    {
      "cell_type": "code",
      "source": [
        "target_size=(size,size)\n",
        "target_size"
      ],
      "metadata": {
        "id": "xC7FqHKbGl59"
      },
      "execution_count": null,
      "outputs": []
    },
    {
      "cell_type": "code",
      "source": [
        "train_generator=train_datagen.flow_from_directory(directory='/content/male-female-face-dataset/Training',\n",
        "                                  target_size=target_size,\n",
        "                                  batch_size=batch_size,\n",
        "                                  class_mode='binary') # because we 've 2 classes males and females "
      ],
      "metadata": {
        "id": "zMKPhPTWG7o-"
      },
      "execution_count": null,
      "outputs": []
    },
    {
      "cell_type": "code",
      "source": [
        "validation_generator=test_gen.flow_from_directory(directory='/content/male-female-face-dataset/Training',\n",
        "                                  target_size=target_size,\n",
        "                                  batch_size=batch_size,\n",
        "                                  class_mode='binary') "
      ],
      "metadata": {
        "id": "u5Q4zDlGKBE_"
      },
      "execution_count": null,
      "outputs": []
    },
    {
      "cell_type": "code",
      "source": [
        "train_generator.class_indices # the index of each class "
      ],
      "metadata": {
        "id": "tmDK5fKlKoBn"
      },
      "execution_count": null,
      "outputs": []
    },
    {
      "cell_type": "code",
      "source": [
        "train_generator.classes"
      ],
      "metadata": {
        "id": "j0Ydml_EKtfY"
      },
      "execution_count": null,
      "outputs": []
    },
    {
      "cell_type": "code",
      "source": [
        "train_generator.class_mode # the nb of classes "
      ],
      "metadata": {
        "id": "rP4Tbv8xK-2p"
      },
      "execution_count": null,
      "outputs": []
    },
    {
      "cell_type": "code",
      "source": [
        "x,y=train_generator.next()\n",
        "x.shape #(nb of imgs ,lengh,width, red green blue)"
      ],
      "metadata": {
        "id": "OJDST0ieLPjS"
      },
      "execution_count": null,
      "outputs": []
    },
    {
      "cell_type": "markdown",
      "source": [
        "# Build ML **Model**"
      ],
      "metadata": {
        "id": "1ZlFcOP5MT9r"
      }
    },
    {
      "cell_type": "code",
      "source": [
        "model = Sequential()\n",
        "model.add(InceptionV3(include_top=False, pooling='avg',weights='imagenet')) # add a pre trained cnn to your network \n",
        "model.add(Flatten())\n",
        "\n",
        "model.add(BatchNormalization())\n",
        "model.add(Dense(2048 , activation='relu'))\n",
        "model.add( BatchNormalization() )\n",
        "\n",
        "model.add(Dense(1024,activation='relu'))\n",
        "model.add( BatchNormalization() )\n",
        "model.add(Dense(1,activation='sigmoid'))\n",
        "model.layers[0].trainable=False"
      ],
      "metadata": {
        "id": "g1jtxY8dMV_A"
      },
      "execution_count": null,
      "outputs": []
    },
    {
      "cell_type": "code",
      "source": [
        "model.summary()"
      ],
      "metadata": {
        "id": "o9fccpWJW-zv"
      },
      "execution_count": null,
      "outputs": []
    },
    {
      "cell_type": "code",
      "source": [
        "model.compile(optimizer='adam',loss='binary_crossentropy',metrics=['accuracy'])"
      ],
      "metadata": {
        "id": "PPY2KZUGXjH5"
      },
      "execution_count": null,
      "outputs": []
    },
    {
      "cell_type": "code",
      "source": [
        "model.fit(train_generator,\n",
        "          steps_per_epoch=len(train_generator.filenames)//batch_size,\n",
        "          epochs=4,\n",
        "          validation_data=validation_generator,validation_steps=len(train_generator.filenames)//batch_size) \n",
        "\n"
      ],
      "metadata": {
        "id": "ufno52fxX_kB"
      },
      "execution_count": null,
      "outputs": []
    },
    {
      "cell_type": "markdown",
      "source": [
        "#Test Model"
      ],
      "metadata": {
        "id": "PfSoqFBOiNoF"
      }
    },
    {
      "cell_type": "code",
      "source": [
        "img_path='/content/male-female-face-dataset/Validation/female/112944.jpg.jpg'\n",
        "img=load_img(img_path,target_size=(size,size,3))\n",
        "plt.imshow(img)\n"
      ],
      "metadata": {
        "id": "DXsrHsVFZnUT"
      },
      "execution_count": null,
      "outputs": []
    },
    {
      "cell_type": "code",
      "source": [
        "img=np.asarray(img)"
      ],
      "metadata": {
        "id": "Mv06KRQspq9f"
      },
      "execution_count": null,
      "outputs": []
    },
    {
      "cell_type": "code",
      "source": [
        "img=img/255.0"
      ],
      "metadata": {
        "id": "eJwPpE1Xmcxo"
      },
      "execution_count": null,
      "outputs": []
    },
    {
      "cell_type": "code",
      "source": [
        "img=img.reshape(1,size,size,3)"
      ],
      "metadata": {
        "id": "APhqpWD_miMB"
      },
      "execution_count": null,
      "outputs": []
    },
    {
      "cell_type": "code",
      "source": [
        "img.shape"
      ],
      "metadata": {
        "id": "rf0eCG1jmtn3"
      },
      "execution_count": null,
      "outputs": []
    },
    {
      "cell_type": "code",
      "source": [
        "model.predict(img)"
      ],
      "metadata": {
        "id": "Vcqo7iZGmwqd"
      },
      "execution_count": null,
      "outputs": []
    },
    {
      "cell_type": "code",
      "source": [
        "train_generator.class_indices"
      ],
      "metadata": {
        "id": "Dtmj7GK6m6PY"
      },
      "execution_count": null,
      "outputs": []
    },
    {
      "cell_type": "code",
      "source": [
        "def get_classes(data):\n",
        "  prob=model.predict(img)\n",
        "  pred=np.argmax(prob, axis=1)\n",
        "  if pred[0]==0:\n",
        "    return 'female' , prob[0][0]\n",
        "  else :\n",
        "      return 'male' , prob[0][0]"
      ],
      "metadata": {
        "id": "ZWmlvPumnC0N"
      },
      "execution_count": null,
      "outputs": []
    },
    {
      "cell_type": "code",
      "source": [
        "get_classes(img)"
      ],
      "metadata": {
        "id": "EvalZW1OpM5r"
      },
      "execution_count": null,
      "outputs": []
    },
    {
      "cell_type": "markdown",
      "source": [
        "# Real_Time Prediction using webcam"
      ],
      "metadata": {
        "id": "QeHIioYLmrpK"
      }
    },
    {
      "cell_type": "code",
      "source": [
        "import imutils\n",
        "import numpy as np\n",
        "import cv2\n",
        "from google.colab.patches import cv2_imshow\n",
        "from IPython.display import display, Javascript\n",
        "from google.colab.output import eval_js\n",
        "from base64 import b64decode"
      ],
      "metadata": {
        "id": "hvx1KFJGqz3y"
      },
      "execution_count": null,
      "outputs": []
    },
    {
      "cell_type": "markdown",
      "source": [
        "*Start webcam*"
      ],
      "metadata": {
        "id": "MHSD7aBZsYsP"
      }
    },
    {
      "cell_type": "code",
      "source": [
        "def take_photo(filename='photo.jpg', quality=0.8):\n",
        "  js = Javascript('''\n",
        "    async function takePhoto(quality) {\n",
        "      const div = document.createElement('div');\n",
        "      const capture = document.createElement('button');\n",
        "      capture.textContent = 'Capture';\n",
        "      div.appendChild(capture);\n",
        "\n",
        "      const video = document.createElement('video');\n",
        "      video.style.display = 'block';\n",
        "      const stream = await navigator.mediaDevices.getUserMedia({video: true});\n",
        "\n",
        "      document.body.appendChild(div);\n",
        "      div.appendChild(video);\n",
        "      video.srcObject = stream;\n",
        "      await video.play();\n",
        "\n",
        "      // Resize the output to fit the video element.\n",
        "      google.colab.output.setIframeHeight(document.documentElement.scrollHeight, true);\n",
        "\n",
        "      // Wait for Capture to be clicked.\n",
        "      await new Promise((resolve) => capture.onclick = resolve);\n",
        "\n",
        "      const canvas = document.createElement('canvas');\n",
        "      canvas.width = video.videoWidth;\n",
        "      canvas.height = video.videoHeight;\n",
        "      canvas.getContext('2d').drawImage(video, 0, 0);\n",
        "      stream.getVideoTracks()[0].stop();\n",
        "      div.remove();\n",
        "      return canvas.toDataURL('image/jpeg', quality);\n",
        "    }\n",
        "    ''')\n",
        "  display(js)\n",
        "  data = eval_js('takePhoto({})'.format(quality))\n",
        "  binary = b64decode(data.split(',')[1])\n",
        "  with open(filename, 'wb') as f:\n",
        "    f.write(binary)\n",
        "  return filename"
      ],
      "metadata": {
        "id": "ajF20fYSrwy5"
      },
      "execution_count": null,
      "outputs": []
    },
    {
      "cell_type": "markdown",
      "source": [
        "**Click 'Capture' to make photo using your webcam.**"
      ],
      "metadata": {
        "id": "PpYq35_NsR4n"
      }
    },
    {
      "cell_type": "code",
      "source": [
        "image_file = take_photo()"
      ],
      "metadata": {
        "id": "HTkPg68ar_ZR"
      },
      "execution_count": null,
      "outputs": []
    },
    {
      "cell_type": "code",
      "source": [
        ""
      ],
      "metadata": {
        "id": "_rbXotUwtfFa"
      },
      "execution_count": null,
      "outputs": []
    },
    {
      "cell_type": "markdown",
      "source": [
        "*Read, resize and display the image*"
      ],
      "metadata": {
        "id": "Z0mNzRfysEsP"
      }
    },
    {
      "cell_type": "code",
      "source": [
        "#image = cv2.imread(image_file, cv2.IMREAD_UNCHANGED)\n",
        "image = cv2.imread(image_file)\n",
        "\n",
        "# resize it to have a maximum width of 400 pixels\n",
        "image = imutils.resize(image, width=400)\n",
        "(h, w) = image.shape[:2]\n",
        "print(w,h)\n",
        "cv2_imshow(image)"
      ],
      "metadata": {
        "id": "g830hluKsAWe"
      },
      "execution_count": null,
      "outputs": []
    },
    {
      "cell_type": "code",
      "source": [
        "def get_prediction(img_path):\n",
        "  img=load_img(img_path,target_size=(size,size,3))\n",
        "  plt.imshow(img)\n",
        "  img=img_to_array(img)\n",
        "  img=img/255\n",
        "  img.reshape(1,size,size,3)\n",
        "  pred , prob =get_classes(img)\n",
        "  return pred , prob "
      ],
      "metadata": {
        "id": "HHUAJsZ4tgdx"
      },
      "execution_count": null,
      "outputs": []
    },
    {
      "cell_type": "code",
      "source": [
        "get_prediction('/content/photo.jpg')"
      ],
      "metadata": {
        "id": "G6U9c5s6udAP"
      },
      "execution_count": null,
      "outputs": []
    }
  ]
}