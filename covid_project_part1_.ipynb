{
  "nbformat": 4,
  "nbformat_minor": 0,
  "metadata": {
    "colab": {
      "name": "covid project part1 .ipynb",
      "private_outputs": true,
      "provenance": [],
      "collapsed_sections": []
    },
    "kernelspec": {
      "name": "python3",
      "display_name": "Python 3"
    },
    "language_info": {
      "name": "python"
    }
  },
  "cells": [
    {
      "cell_type": "code",
      "execution_count": null,
      "metadata": {
        "id": "4dObwh_KzqW6"
      },
      "outputs": [],
      "source": [
        "! pip install kaggle"
      ]
    },
    {
      "cell_type": "code",
      "source": [
        "! mkdir ~/.kaggle\n"
      ],
      "metadata": {
        "id": "qk9OZQqCzui8"
      },
      "execution_count": null,
      "outputs": []
    },
    {
      "cell_type": "code",
      "source": [
        "! cp /kaggle.json ~/.kaggle/"
      ],
      "metadata": {
        "id": "XgUaJJZy3gU5"
      },
      "execution_count": null,
      "outputs": []
    },
    {
      "cell_type": "code",
      "source": [
        "!chmod 600 ~/.kaggle/kaggle.json"
      ],
      "metadata": {
        "id": "jCwwSvxE33hq"
      },
      "execution_count": null,
      "outputs": []
    },
    {
      "cell_type": "code",
      "source": [
        "!kaggle datasets download -d paultimothymooney/chest-xray-pneumonia"
      ],
      "metadata": {
        "id": "R-u92CFx39_9"
      },
      "execution_count": null,
      "outputs": []
    },
    {
      "cell_type": "code",
      "source": [
        "!unzip  /content/chest-xray-pneumonia.zip"
      ],
      "metadata": {
        "id": "58VA3tZj3-HK"
      },
      "execution_count": null,
      "outputs": []
    },
    {
      "cell_type": "code",
      "source": [
        "!git clone https://github.com/ieee8023/covid-chestxray-dataset.git"
      ],
      "metadata": {
        "id": "FTe6xdwP4HB_"
      },
      "execution_count": null,
      "outputs": []
    },
    {
      "cell_type": "code",
      "source": [
        "import pandas  as pd \n",
        "import os \n",
        "import shutil \n",
        "\n",
        "# What is Shutil? The shutil module helps you automate copying files and directories. This saves the steps of opening, reading, writing and closing files when there is no actual processing. It is a utility module which can be used to accomplish tasks, such as: copying, moving, or removing directory trees."
      ],
      "metadata": {
        "id": "BtfrKKwv4Ra-"
      },
      "execution_count": null,
      "outputs": []
    },
    {
      "cell_type": "code",
      "source": [
        "#create the data for positive  samples [Github]\n",
        "FILE_PATH='/content/covid-chestxray-dataset/metadata.csv'\n",
        "IMAGES_PATH='/content/covid-chestxray-dataset/images'\n",
        "df=pd.read_csv(FILE_PATH)\n",
        "print(df.shape)"
      ],
      "metadata": {
        "id": "Dh-f4SrF4Wql"
      },
      "execution_count": null,
      "outputs": []
    },
    {
      "cell_type": "code",
      "source": [
        "df.head()"
      ],
      "metadata": {
        "id": "Wj4dzXZG4a5N"
      },
      "execution_count": null,
      "outputs": []
    },
    {
      "cell_type": "code",
      "source": [
        "target_dir='/contentcovid'\n",
        "if not (os.path.exists(target_dir)) :\n",
        "  os.mkdir(target_dir)\n",
        "  print('covid folder created')"
      ],
      "metadata": {
        "id": "PiQSDymX4nv6"
      },
      "execution_count": null,
      "outputs": []
    },
    {
      "cell_type": "code",
      "source": [
        "cnt=0 \n",
        "for (i,row) in df.iterrows():\n",
        "  if row['finding']=='Pneumonia/Viral/COVID-19' and row['view']=='PA':\n",
        "    cnt+=1\n",
        "    filename=row['filename']\n",
        "    image_path=os.path.join(IMAGES_PATH,filename) \n",
        "# path. join() method in Python join one or more path components intelligently.\n",
        "# This method concatenates various path components with exactly one directory separator ('/') following each non-empty part except the last path component\n",
        "    image_copy_path= os.path.join(target_dir , filename)\n",
        "    shutil.copy(image_path,image_copy_path)\n",
        "    print('Moving image ', cnt )\n",
        "print(cnt)"
      ],
      "metadata": {
        "id": "z2D2CdMx5heI"
      },
      "execution_count": null,
      "outputs": []
    },
    {
      "cell_type": "code",
      "source": [
        "# sampling of image from Kaggle\n",
        "import random \n",
        "KAGGLE_FILE_PATH='/content/chest_xray/train/NORMAL'\n",
        "TARGET_NORMAL_DIR='/content/chest_xray/Normal'"
      ],
      "metadata": {
        "id": "TNlJCLZa5otw"
      },
      "execution_count": null,
      "outputs": []
    },
    {
      "cell_type": "code",
      "source": [
        "image_names=os.listdir(KAGGLE_FILE_PATH)"
      ],
      "metadata": {
        "id": "7a_MSPwN6Wem"
      },
      "execution_count": null,
      "outputs": []
    },
    {
      "cell_type": "code",
      "source": [
        "random.shuffle(image_names)"
      ],
      "metadata": {
        "id": "QVb_n3F85XTP"
      },
      "execution_count": null,
      "outputs": []
    },
    {
      "cell_type": "code",
      "source": [
        "for i in range (196):\n",
        "  image_name =image_names[i]\n",
        "  image_path=os.path.join(KAGGLE_FILE_PATH,image_name)\n",
        "  target_path=os.path.join(TARGET_NORMAL_DIR,image_name)\n",
        "  shutil.copy2(image_path,target_path)\n",
        "  print('copying  ',i)"
      ],
      "metadata": {
        "id": "y1dlUqWZ6-dT"
      },
      "execution_count": null,
      "outputs": []
    },
    {
      "cell_type": "code",
      "source": [
        ""
      ],
      "metadata": {
        "id": "4JBiuOd98wjQ"
      },
      "execution_count": null,
      "outputs": []
    }
  ]
}